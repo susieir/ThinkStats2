{
 "cells": [
  {
   "cell_type": "markdown",
   "metadata": {},
   "source": [
    "# Chapter 2 - Distributions\n",
    "### 2.1 - Histograms\n",
    "- Dictionaries are an efficient way to compute frequencies\n",
    "- Questions to ask about histograms\n",
    "    - Central tendency - do they cluster around a particular point?\n",
    "    - Modes - is there more than one cluster?\n",
    "    - Spread - how much variability is there in the values?\n",
    "    - Tails - how quickly do the probabilities drop off as we move away from the modes?\n",
    "    - Outliers - are there extreme values far from the modes?\n",
    "*Summary statistics* intended to answer these questions\n",
    "    - Mean\n",
    "    - Variance\n",
    "    - Standard deviation\n",
    "    - Effect size - compares difference between groups to the variability between groups (Cohen's d)"
   ]
  },
  {
   "cell_type": "code",
   "execution_count": 4,
   "metadata": {},
   "outputs": [
    {
     "data": {
      "text/html": [
       "<div>\n",
       "<style scoped>\n",
       "    .dataframe tbody tr th:only-of-type {\n",
       "        vertical-align: middle;\n",
       "    }\n",
       "\n",
       "    .dataframe tbody tr th {\n",
       "        vertical-align: top;\n",
       "    }\n",
       "\n",
       "    .dataframe thead th {\n",
       "        text-align: right;\n",
       "    }\n",
       "</style>\n",
       "<table border=\"1\" class=\"dataframe\">\n",
       "  <thead>\n",
       "    <tr style=\"text-align: right;\">\n",
       "      <th></th>\n",
       "      <th>caseid</th>\n",
       "      <th>pregordr</th>\n",
       "      <th>howpreg_n</th>\n",
       "      <th>howpreg_p</th>\n",
       "      <th>moscurrp</th>\n",
       "      <th>nowprgdk</th>\n",
       "      <th>pregend1</th>\n",
       "      <th>pregend2</th>\n",
       "      <th>nbrnaliv</th>\n",
       "      <th>multbrth</th>\n",
       "      <th>...</th>\n",
       "      <th>laborfor_i</th>\n",
       "      <th>religion_i</th>\n",
       "      <th>metro_i</th>\n",
       "      <th>basewgt</th>\n",
       "      <th>adj_mod_basewgt</th>\n",
       "      <th>finalwgt</th>\n",
       "      <th>secu_p</th>\n",
       "      <th>sest</th>\n",
       "      <th>cmintvw</th>\n",
       "      <th>totalwgt_lb</th>\n",
       "    </tr>\n",
       "  </thead>\n",
       "  <tbody>\n",
       "    <tr>\n",
       "      <th>0</th>\n",
       "      <td>1</td>\n",
       "      <td>1</td>\n",
       "      <td>NaN</td>\n",
       "      <td>NaN</td>\n",
       "      <td>NaN</td>\n",
       "      <td>NaN</td>\n",
       "      <td>6.0</td>\n",
       "      <td>NaN</td>\n",
       "      <td>1.0</td>\n",
       "      <td>NaN</td>\n",
       "      <td>...</td>\n",
       "      <td>0</td>\n",
       "      <td>0</td>\n",
       "      <td>0</td>\n",
       "      <td>3410.389399</td>\n",
       "      <td>3869.349602</td>\n",
       "      <td>6448.271112</td>\n",
       "      <td>2</td>\n",
       "      <td>9</td>\n",
       "      <td>NaN</td>\n",
       "      <td>8.8125</td>\n",
       "    </tr>\n",
       "    <tr>\n",
       "      <th>1</th>\n",
       "      <td>1</td>\n",
       "      <td>2</td>\n",
       "      <td>NaN</td>\n",
       "      <td>NaN</td>\n",
       "      <td>NaN</td>\n",
       "      <td>NaN</td>\n",
       "      <td>6.0</td>\n",
       "      <td>NaN</td>\n",
       "      <td>1.0</td>\n",
       "      <td>NaN</td>\n",
       "      <td>...</td>\n",
       "      <td>0</td>\n",
       "      <td>0</td>\n",
       "      <td>0</td>\n",
       "      <td>3410.389399</td>\n",
       "      <td>3869.349602</td>\n",
       "      <td>6448.271112</td>\n",
       "      <td>2</td>\n",
       "      <td>9</td>\n",
       "      <td>NaN</td>\n",
       "      <td>7.8750</td>\n",
       "    </tr>\n",
       "    <tr>\n",
       "      <th>2</th>\n",
       "      <td>2</td>\n",
       "      <td>1</td>\n",
       "      <td>NaN</td>\n",
       "      <td>NaN</td>\n",
       "      <td>NaN</td>\n",
       "      <td>NaN</td>\n",
       "      <td>5.0</td>\n",
       "      <td>NaN</td>\n",
       "      <td>3.0</td>\n",
       "      <td>5.0</td>\n",
       "      <td>...</td>\n",
       "      <td>0</td>\n",
       "      <td>0</td>\n",
       "      <td>0</td>\n",
       "      <td>7226.301740</td>\n",
       "      <td>8567.549110</td>\n",
       "      <td>12999.542264</td>\n",
       "      <td>2</td>\n",
       "      <td>12</td>\n",
       "      <td>NaN</td>\n",
       "      <td>9.1250</td>\n",
       "    </tr>\n",
       "    <tr>\n",
       "      <th>3</th>\n",
       "      <td>2</td>\n",
       "      <td>2</td>\n",
       "      <td>NaN</td>\n",
       "      <td>NaN</td>\n",
       "      <td>NaN</td>\n",
       "      <td>NaN</td>\n",
       "      <td>6.0</td>\n",
       "      <td>NaN</td>\n",
       "      <td>1.0</td>\n",
       "      <td>NaN</td>\n",
       "      <td>...</td>\n",
       "      <td>0</td>\n",
       "      <td>0</td>\n",
       "      <td>0</td>\n",
       "      <td>7226.301740</td>\n",
       "      <td>8567.549110</td>\n",
       "      <td>12999.542264</td>\n",
       "      <td>2</td>\n",
       "      <td>12</td>\n",
       "      <td>NaN</td>\n",
       "      <td>7.0000</td>\n",
       "    </tr>\n",
       "    <tr>\n",
       "      <th>4</th>\n",
       "      <td>2</td>\n",
       "      <td>3</td>\n",
       "      <td>NaN</td>\n",
       "      <td>NaN</td>\n",
       "      <td>NaN</td>\n",
       "      <td>NaN</td>\n",
       "      <td>6.0</td>\n",
       "      <td>NaN</td>\n",
       "      <td>1.0</td>\n",
       "      <td>NaN</td>\n",
       "      <td>...</td>\n",
       "      <td>0</td>\n",
       "      <td>0</td>\n",
       "      <td>0</td>\n",
       "      <td>7226.301740</td>\n",
       "      <td>8567.549110</td>\n",
       "      <td>12999.542264</td>\n",
       "      <td>2</td>\n",
       "      <td>12</td>\n",
       "      <td>NaN</td>\n",
       "      <td>6.1875</td>\n",
       "    </tr>\n",
       "  </tbody>\n",
       "</table>\n",
       "<p>5 rows × 244 columns</p>\n",
       "</div>"
      ],
      "text/plain": [
       "   caseid  pregordr  howpreg_n  howpreg_p  moscurrp  nowprgdk  pregend1  \\\n",
       "0       1         1        NaN        NaN       NaN       NaN       6.0   \n",
       "1       1         2        NaN        NaN       NaN       NaN       6.0   \n",
       "2       2         1        NaN        NaN       NaN       NaN       5.0   \n",
       "3       2         2        NaN        NaN       NaN       NaN       6.0   \n",
       "4       2         3        NaN        NaN       NaN       NaN       6.0   \n",
       "\n",
       "   pregend2  nbrnaliv  multbrth  ...  laborfor_i  religion_i  metro_i  \\\n",
       "0       NaN       1.0       NaN  ...           0           0        0   \n",
       "1       NaN       1.0       NaN  ...           0           0        0   \n",
       "2       NaN       3.0       5.0  ...           0           0        0   \n",
       "3       NaN       1.0       NaN  ...           0           0        0   \n",
       "4       NaN       1.0       NaN  ...           0           0        0   \n",
       "\n",
       "       basewgt  adj_mod_basewgt      finalwgt  secu_p  sest  cmintvw  \\\n",
       "0  3410.389399      3869.349602   6448.271112       2     9      NaN   \n",
       "1  3410.389399      3869.349602   6448.271112       2     9      NaN   \n",
       "2  7226.301740      8567.549110  12999.542264       2    12      NaN   \n",
       "3  7226.301740      8567.549110  12999.542264       2    12      NaN   \n",
       "4  7226.301740      8567.549110  12999.542264       2    12      NaN   \n",
       "\n",
       "   totalwgt_lb  \n",
       "0       8.8125  \n",
       "1       7.8750  \n",
       "2       9.1250  \n",
       "3       7.0000  \n",
       "4       6.1875  \n",
       "\n",
       "[5 rows x 244 columns]"
      ]
     },
     "metadata": {},
     "output_type": "display_data"
    }
   ],
   "source": [
    "# Prep for analysis\n",
    "import os\n",
    "os.chdir('C:\\\\Users\\\\susie\\\\Documents\\\\MSc\\\\1. Background\\\\ThinkStats2\\\\code')\n",
    "\n",
    "import nsfg\n",
    "preg = nsfg.ReadFemPreg()\n",
    "display(preg.head())"
   ]
  },
  {
   "cell_type": "code",
   "execution_count": 47,
   "metadata": {},
   "outputs": [
    {
     "data": {
      "text/plain": [
       "'Mean pregnancy duration for first babies is 38.6 weeks and 38.52 weeks for other pregnancies'"
      ]
     },
     "metadata": {},
     "output_type": "display_data"
    },
    {
     "data": {
      "text/plain": [
       "'Median pregnancy duration for first babies is 39.0 weeks and 39.0 weeks for other pregnancies'"
      ]
     },
     "metadata": {},
     "output_type": "display_data"
    },
    {
     "data": {
      "text/plain": [
       "'Variance pregnancy duration for first babies is 7.79 weeks and 6.84 weeks for other pregnancies'"
      ]
     },
     "metadata": {},
     "output_type": "display_data"
    },
    {
     "data": {
      "text/plain": [
       "'Standard deviation pregnancy duration for first babies is 2.79 weeks and 2.62 weeks for other pregnancies'"
      ]
     },
     "metadata": {},
     "output_type": "display_data"
    },
    {
     "data": {
      "text/plain": [
       "'Difference in mean duration is 0.08'"
      ]
     },
     "metadata": {},
     "output_type": "display_data"
    },
    {
     "data": {
      "text/plain": [
       "'Weighted effect size is 2.89%'"
      ]
     },
     "metadata": {},
     "output_type": "display_data"
    }
   ],
   "source": [
    "### Exercise 2.1\n",
    "# Filter for live births\n",
    "preg_livebirths = preg[preg.outcome == 1]\n",
    "\n",
    "# Create a subset of data for first pregnancies and non-first pregnancies (other)\n",
    "preg_first = preg_livebirths[preg_livebirths.birthord == 1]\n",
    "preg_other = preg_livebirths[preg_livebirths.birthord != 1]\n",
    "\n",
    "# Check for outliers\n",
    "#display(preg_first.prglngth.value_counts().sort_index())\n",
    "#display(preg_other.prglngth.value_counts().sort_index())\n",
    "\n",
    "# Calculate means\n",
    "first_lngth_mean = preg_first.prglngth.mean()\n",
    "other_lngth_mean = preg_other.prglngth.mean()\n",
    "mean = \"Mean\"\n",
    "\n",
    "# Calculate medians\n",
    "first_lngth_median = preg_first.prglngth.median()\n",
    "other_lngth_median = preg_other.prglngth.median()\n",
    "median = \"Median\"\n",
    "\n",
    "# Calculate variance\n",
    "first_lngth_var = preg_first.prglngth.var()\n",
    "other_lngth_var = preg_other.prglngth.var()\n",
    "var = \"Variance\"\n",
    "\n",
    "# Calculate std\n",
    "first_lngth_std = preg_first.prglngth.std()\n",
    "other_lngth_std = preg_other.prglngth.std()\n",
    "std = \"Standard deviation\"\n",
    "\n",
    "# Calculate summary statistics for first pregnancies vs. others\n",
    "def generate_summary_stat(stat, first, other):\n",
    "        text = \"{stat_label} pregnancy duration for first babies is {first_stat} weeks and {other_stat} weeks for other pregnancies\"\n",
    "        return text.format(stat_label = stat, first_stat = round(first,2), other_stat = round(other,2))\n",
    "\n",
    "display(generate_summary_stat(mean, first_lngth_mean, other_lngth_mean))\n",
    "display(generate_summary_stat(median, first_lngth_median, other_lngth_median))\n",
    "display(generate_summary_stat(var, first_lngth_var, other_lngth_var))\n",
    "display(generate_summary_stat(std, first_lngth_std, other_lngth_std))\n",
    "\n",
    "# Calculate effect size\n",
    "diff_in_means = first_lngth_mean - other_lngth_mean\n",
    "n_first, n_other = len(preg_first), len(preg_other)\n",
    "weighted_var = (n_first * first_lngth_var + n_other * other_lngth_var) / (n_first + n_other)\n",
    "d = diff_in_means / (weighted_var ** 0.5)\n",
    "\n",
    "display(\"Difference in mean duration is {}\".format(round(diff_in_means, 2)))\n",
    "display(\"Weighted effect size is {}%\".format(round(d * 100, 2)))"
   ]
  },
  {
   "cell_type": "code",
   "execution_count": 50,
   "metadata": {},
   "outputs": [
    {
     "data": {
      "image/png": "[encoded data removed]",
      "text/plain": [
       "<Figure size 432x288 with 1 Axes>"
      ]
     },
     "metadata": {
      "needs_background": "light"
     },
     "output_type": "display_data"
    },
    {
     "data": {
      "image/png": "[encoded data removed]",
      "text/plain": [
       "<Figure size 432x288 with 1 Axes>"
      ]
     },
     "metadata": {
      "needs_background": "light"
     },
     "output_type": "display_data"
    }
   ],
   "source": [
    "### Exercise 2.1\n",
    "# Distributions\n",
    "\n",
    "# Import packages\n",
    "%matplotlib inline\n",
    "\n",
    "\n",
    "# Distribution of first and other pregnancy lengths\n",
    "plt.hist(preg_first['prglngth'], bins = 20, range = (27, 46), color = 'blue', \n",
    "         histtype = 'step', label = 'First pregnancies')\n",
    "plt.hist(preg_other['prglngth'], bins = 20, range = (27, 46), color = 'red', \n",
    "         histtype = 'step', label = 'Other pregnancies')\n",
    "plt.legend(loc = 'upper left')\n",
    "plt.title(\"Distribution of first and other pregnancy lengths\")\n",
    "plt.xlabel(\"Pregnancy length (weeks)\")\n",
    "plt.ylabel(\"Frequency\")\n",
    "plt.show()\n",
    "\n",
    "# Normalised distribution of first and other pregnancy lengths\n",
    "plt.hist(preg_first['prglngth'], bins = 20, range = (27, 46), color = 'blue', \n",
    "         histtype = 'step', density = True, label = 'First pregnancies')\n",
    "plt.hist(preg_other['prglngth'], bins = 20, range = (27, 46), color = 'red', \n",
    "         histtype = 'step', density = True, label = 'Other pregnancies')\n",
    "plt.legend(loc = 'upper left')\n",
    "plt.title(\"Normalised distribution of first and other pregnancy lengths\")\n",
    "plt.xlabel(\"Pregnancy length (weeks)\")\n",
    "plt.ylabel(\"Probability density (%)\")\n",
    "plt.show()"
   ]
  },
  {
   "cell_type": "markdown",
   "metadata": {},
   "source": [
    "### Exercise 2.1\n",
    "Overall, there is limited evidence to support the hypothesis that first babies arrive late. Whilst the mean pregnancy duration for first babies is just under a week longer than for other babies (38.6 vs. 38.5 weeks), first babies also see a higher variance in pregnancy lengths (7.8 weeks vs. 6.8 weeks). When controlling for variance of the two sub-groups, the effect size is reduced to around 2.9%.\n",
    "\n",
    "A visual review of distributions supports a similar set of conclusions - the histograms above show that pregnancy lengths are clustered around 38 weeks for both first and other babies. It is also possible to see that, in a normalised distribution, a lower proportion of first babies are born at 38 weeks, with the distribution of pregnancy lengths for first babies distributed more widely across pregnancy lengths. The distribution is negatively skewed (for both first and other babies), with a longer tail of babies born before 38 weeks. As a result, it is not possible to positively conclude that first babies arrive late."
   ]
  }
 ],
 "metadata": {
  "kernelspec": {
   "display_name": "dsfs",
   "language": "python",
   "name": "dsfs"
  },
  "language_info": {
   "codemirror_mode": {
    "name": "ipython",
    "version": 3
   },
   "file_extension": ".py",
   "mimetype": "text/x-python",
   "name": "python",
   "nbconvert_exporter": "python",
   "pygments_lexer": "ipython3",
   "version": "3.8.3"
  }
 },
 "nbformat": 4,
 "nbformat_minor": 4
}
