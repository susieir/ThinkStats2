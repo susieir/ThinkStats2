{
 "cells": [
  {
   "cell_type": "markdown",
   "metadata": {},
   "source": [
    "# ThinkStats\n",
    "## Preface\n",
    "### Process to working with a dataset\n",
    "1. Import and clean - clean, transform and check\n",
    "2. Single variable explorations - examine one variable at a time - mean, distributions, summary stats\n",
    "3. Pair-wise explorations - tables, scatterplots, correlations and linear fits\n",
    "4. Multivariate analysis - multiple regression to add control variables and investigate more complex relationships\n",
    "5. Estimation and hypothesis testing\n",
    "    a. How big is the effect?\n",
    "    b. How much variability should we expect if we run the same measurement again?\n",
    "    c. Is it possible that the apparent effect is due to chance?\n",
    "6. Visualisation - an effective way to communicate results"
   ]
  },
  {
   "cell_type": "markdown",
   "metadata": {},
   "source": [
    "## Chapter 1 - Exploratory Data Analysis\n",
    "- NSFG dataset - National Survey of Family Growth (NSFG)\n",
    "- Deliberately **oversampled**, i.e. three groups recruited at higher levels than their representation in the US population, to ensure the the number of respondents was large enough to draw valid statistical inferences\n",
    "- Codebook location: http://www.cdc.gov/nchs/nsfg/nsfg_cycle6.htm"
   ]
  },
  {
   "cell_type": "code",
   "execution_count": null,
   "metadata": {},
   "outputs": [],
   "source": [
    "# Up to 1.3, pg 24"
   ]
  }
 ],
 "metadata": {
  "kernelspec": {
   "display_name": "Python 3",
   "language": "python",
   "name": "python3"
  },
  "language_info": {
   "codemirror_mode": {
    "name": "ipython",
    "version": 3
   },
   "file_extension": ".py",
   "mimetype": "text/x-python",
   "name": "python",
   "nbconvert_exporter": "python",
   "pygments_lexer": "ipython3",
   "version": "3.8.3"
  }
 },
 "nbformat": 4,
 "nbformat_minor": 4
}
