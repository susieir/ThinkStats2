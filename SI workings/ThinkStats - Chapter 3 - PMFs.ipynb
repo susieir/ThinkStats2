{
 "cells": [
  {
   "cell_type": "markdown",
   "metadata": {},
   "source": [
    "# Chapter 3 - Probability mass functions\n",
    "### 3.1 - Pmfs\n",
    "- Maps value to probability (frequency expresed as a fraction of sample size, n)\n",
    "- To get from frequencies to probabilities - divide by n -> normalisation\n",
    "- Hist: maps from values to integer counters\n",
    "- Pmf: maps from values to floating point probabilities\n",
    "\n",
    "### 3.4 - The class size paradox\n",
    "- At many American colleges and universities, the student-to-faculty ratio is about 10:1, however class sizes are often larger than 10, as:\n",
    "    - Students typically take 4-5 classes per semester, but professors often teach 1 or 2\n",
    "    - The number of students who enjoy a small class is small, but the number of students in a large class is large!\n",
    "    \n",
    "   "
   ]
  }
 ],
 "metadata": {
  "kernelspec": {
   "display_name": "dsfs",
   "language": "python",
   "name": "dsfs"
  },
  "language_info": {
   "codemirror_mode": {
    "name": "ipython",
    "version": 3
   },
   "file_extension": ".py",
   "mimetype": "text/x-python",
   "name": "python",
   "nbconvert_exporter": "python",
   "pygments_lexer": "ipython3",
   "version": "3.8.3"
  }
 },
 "nbformat": 4,
 "nbformat_minor": 4
}
